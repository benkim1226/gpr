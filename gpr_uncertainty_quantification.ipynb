{
  "cells": [
    {
      "cell_type": "markdown",
      "metadata": {
        "id": "amNbe04hSDqM"
      },
      "source": [
        "#  Imports and functions"
      ]
    },
    {
      "cell_type": "code",
      "execution_count": null,
      "metadata": {
        "id": "kiFOkLX5SD8a"
      },
      "outputs": [],
      "source": [
        "import pandas as pd\n",
        "import numpy as np\n",
        "import matplotlib.pyplot as plt\n",
        "import os\n",
        "import seaborn as sns\n",
        "import random\n",
        "\n",
        "from sklearn.linear_model import Lasso, LinearRegression as LR\n",
        "from sklearn.linear_model import Ridge\n",
        "\n",
        "from sklearn.gaussian_process import GaussianProcessRegressor\n",
        "from sklearn.gaussian_process.kernels import RBF, WhiteKernel\n",
        "\n",
        "from sklearn.preprocessing import PolynomialFeatures as PF\n",
        "from sklearn.preprocessing import StandardScaler as SS\n",
        "\n",
        "from sklearn.model_selection import train_test_split as tts\n",
        "\n",
        "from IPython.display import clear_output\n",
        "from datetime import datetime as dt\n",
        "\n",
        "from sklearn.metrics import mean_squared_error\n",
        "from sklearn.metrics import mean_absolute_error\n",
        "from sklearn.metrics import r2_score\n",
        "\n",
        "from scipy import stats\n",
        "from scipy.stats import ks_2samp\n",
        "from scipy.stats import kstest\n",
        "\n",
        "from scipy.stats import wasserstein_distance\n"
      ]
    },
    {
      "cell_type": "code",
      "execution_count": null,
      "metadata": {
        "id": "HqRO3nd0YgnY"
      },
      "outputs": [],
      "source": [
        "\n",
        "def GetColors(N, cmap_name='rainbow'):\n",
        "    from matplotlib.cm import get_cmap\n",
        "    import numpy as np\n",
        "\n",
        "    cmap = get_cmap(name=cmap_name)\n",
        "    n = np.linspace(0,1,N)\n",
        "    return cmap(n)\n",
        "\n",
        "def PlotGroups(points, groups, colors):\n",
        "    import matplotlib.pyplot as plt\n",
        "\n",
        "    plt.figure(figsize=(6,6))\n",
        "\n",
        "    for i, yi in enumerate(np.unique(groups)):\n",
        "        idx = (groups == yi)\n",
        "        plt.scatter(points[idx, 0], points[idx, 1],\n",
        "                    alpha=0.5, ec='k', color=colors[i], label = yi)\n",
        "    plt.axis('equal')\n",
        "    plt.legend(loc='center left', bbox_to_anchor=[1, 0.5])\n",
        "    #plt.show()\n",
        "    return\n",
        "\n",
        "def CompareClasses(actual, predicted, names=None):\n",
        "    classes = pd.DataFrame(columns=['Predicted','Actual'])\n",
        "    classes['Predicted'] = predicted\n",
        "    classes['Actual'] = actual\n",
        "\n",
        "    conf_mat = pd.crosstab(columns=classes['Predicted'],\n",
        "                       index = classes['Actual'])\n",
        "    if names != None:\n",
        "        conf_mat.columns = names\n",
        "        conf_mat.index = names\n",
        "\n",
        "    conf_mat.columns.name = 'Predicted'\n",
        "    conf_mat.index.name = 'Actual'\n",
        "\n",
        "    accuracy = sum(predicted==actual)/len(actual)\n",
        "\n",
        "    return conf_mat, accuracy\n",
        "\n",
        "def DoKFold(model, X, y, k, scaler=None):\n",
        "    from sklearn.model_selection import KFold\n",
        "    import pandas as pd\n",
        "\n",
        "    kf = KFold(n_splits=k, shuffle=True)\n",
        "\n",
        "    if type(X) == pd.core.frame.DataFrame:\n",
        "        X = X.values\n",
        "\n",
        "    training_scores=[]\n",
        "    testing_scores=[]\n",
        "\n",
        "    for idxTrain, idxTest in kf.split(X):\n",
        "        Xtrain = X[idxTrain,:]\n",
        "        Xtest = X[idxTest,:]\n",
        "        ytrain = y[idxTrain]\n",
        "        ytest = y[idxTest]\n",
        "\n",
        "        if scaler != None:\n",
        "            # For standardization:\n",
        "            # Fit/transform on training data\n",
        "            Xtrain = scaler.fit_transform(Xtrain)\n",
        "            #\n",
        "            # Only transform (i.e, don't refit) on test data\n",
        "            Xtest = scaler.transform(Xtest)\n",
        "\n",
        "        model.fit(Xtrain,ytrain)\n",
        "\n",
        "        training_scores.append(model.score(Xtrain,ytrain))\n",
        "        testing_scores.append(model.score(Xtest,ytest))\n",
        "\n",
        "    return training_scores, testing_scores\n",
        "\n",
        "def plot_train_test(train, test, width, x_lab = None, y_lab = 'Mean Accuracy'):\n",
        "    import matplotlib.pyplot as plt\n",
        "    plt.figure(figsize=(10,8))\n",
        "    plt.plot(width, train, '-kx')\n",
        "    plt.plot(width, test, '-rx')\n",
        "    plt.legend()\n",
        "    plt.xlabel(x_lab)\n",
        "    plt.ylabel(y_lab)\n",
        "    plt.show()\n"
      ]
    },
    {
      "cell_type": "markdown",
      "metadata": {
        "id": "1-12KwJXONHb"
      },
      "source": [
        "# Model simulation code\n"
      ]
    },
    {
      "cell_type": "code",
      "execution_count": 1,
      "metadata": {
        "id": "Lr6ckQpfOTB3",
        "colab": {
          "base_uri": "https://localhost:8080/"
        },
        "outputId": "ea15a1ad-b005-435e-aac0-401464ba8688"
      },
      "outputs": [
        {
          "output_type": "stream",
          "name": "stdout",
          "text": [
            "Mounted at /content/gdrive\n",
            "/content/gdrive/MyDrive/Colab Notebooks\n"
          ]
        },
        {
          "output_type": "execute_result",
          "data": {
            "text/plain": [
              "342.2243670511788"
            ]
          },
          "metadata": {},
          "execution_count": 1
        }
      ],
      "source": [
        "from math import sqrt\n",
        "from array import *\n",
        "import numpy as np\n",
        "import matplotlib.pyplot as plt\n",
        "\n",
        "from datetime import datetime as dt\n",
        "import pandas as pd\n",
        "\n",
        "from google.colab import drive\n",
        "drive.mount('/content/gdrive')\n",
        "\n",
        "%cd /content/gdrive/MyDrive/Colab Notebooks\n",
        "%run run_model.ipynb\n",
        "run_model(x_input,t_final)"
      ]
    },
    {
      "cell_type": "markdown",
      "metadata": {
        "id": "rWFfCZ2aQuMi"
      },
      "source": [
        "# Data simulator function"
      ]
    },
    {
      "cell_type": "code",
      "execution_count": null,
      "metadata": {
        "id": "CLMYFFiYOtX7"
      },
      "outputs": [],
      "source": [
        "def simulate_data_set(prop_var = 0.1, N = 5, dims_to_use = []):\n",
        "    overall_start = dt.now()\n",
        "    import numpy as np\n",
        "    import random\n",
        "    from IPython.display import clear_output\n",
        "\n",
        "    sim_input = []\n",
        "    #Baseline values for each variable as a dict\n",
        "\n",
        "    baseline = {'t_final': [60, 60*prop_var],  # [sec]\n",
        "                    'h_tile': [.0254, .0254*prop_var],    # [m]\n",
        "                    'h_Ti': [0.00015, 0.00015*prop_var],    # [m]\n",
        "                    'rho_tile': [144, 144*prop_var],   # [kg/m^3]\n",
        "                    'rho_Ti': [4540, 4540*prop_var],  # [kg/m^3]\n",
        "                    'cp_tile': [628, 628*prop_var],   # [J/kg*K]\n",
        "                    'cp_Ti': [460, 460*prop_var],   # [J/kg*K]\n",
        "                    'k_tile': [0.126, 0.126*prop_var], # [W/mK]\n",
        "                    'k_Ti': [7.1, 7.1*prop_var],   # [W/mK]\n",
        "                    'emissivity': [0.8, 0.8*prop_var],\n",
        "                    'M_inf': [5.0, 5.0*prop_var],     # Freestream Mach number\n",
        "                    'p_inf': [2736.0, 2736.0*prop_var],  # Freestream pressure [Pa]\n",
        "                    'T_inf': [284.0, 284*prop_var],   # Freestream temperature [K]\n",
        "                    'fudge_factor': [1.0, 1.0*prop_var]\n",
        "                    }\n",
        "\n",
        "    sim_data = pd.DataFrame()\n",
        "\n",
        "    for k,v in baseline.items():\n",
        "      column = []\n",
        "      for n in range(N):\n",
        "        if k in dims_to_use or dims_to_use == []:\n",
        "          column.append(random.gauss(v[0], v[1]))\n",
        "        else:\n",
        "          column.append(v[0])\n",
        "      sim_data[k] = column\n",
        "\n",
        "    print('values calculated, moving to simulations')\n",
        "\n",
        "    simulator_values = []\n",
        "    for i in range(len(sim_data)):\n",
        "      clear_output()\n",
        "      print('values calculated, moving to simulations')\n",
        "      print('simulator iteration', i)\n",
        "      print('Runtime:', dt.now()-overall_start)\n",
        "      values = sim_data.loc[i]\n",
        "      #print(values)\n",
        "      #print(run_model(values[1:], values[0]))\n",
        "      simulator_values.append(run_model(values[1:],values[0]))\n",
        "\n",
        "    sim_data['Final_temp'] = simulator_values\n",
        "\n",
        "    #clear_output()\n",
        "    print('Runtime:', dt.now()-overall_start)\n",
        "\n",
        "\n",
        "    return(sim_data)\n",
        "\n",
        "\n",
        "\n"
      ]
    },
    {
      "cell_type": "markdown",
      "metadata": {
        "id": "SbI215hfRy66"
      },
      "source": [
        "### Testing on only t_final"
      ]
    },
    {
      "cell_type": "code",
      "execution_count": null,
      "metadata": {
        "colab": {
          "base_uri": "https://localhost:8080/"
        },
        "id": "PHZ0q7oIQULh",
        "outputId": "5b1d3fc7-b2ba-4809-f0e9-a4067a732abe"
      },
      "outputs": [
        {
          "name": "stdout",
          "output_type": "stream",
          "text": [
            "values calculated, moving to simulations\n",
            "simulator iteration 549\n",
            "Runtime: 0:08:22.848195\n",
            "Runtime: 0:08:23.703760\n"
          ]
        }
      ],
      "source": [
        "#MC_simulated_data = simulate_data_set(N = 1000, dims_to_use = ['t_final'])\n",
        "lasso_training_set = simulate_data_set(N = 450, dims_to_use = ['t_final'])\n",
        "lasso_validation_set = simulate_data_set(N = 550, dims_to_use = ['t_final'])"
      ]
    },
    {
      "cell_type": "code",
      "execution_count": null,
      "metadata": {
        "colab": {
          "base_uri": "https://localhost:8080/"
        },
        "id": "p8PYjTFHf80w",
        "outputId": "6f963358-680e-4cbf-c703-fc9693721049"
      },
      "outputs": [
        {
          "name": "stdout",
          "output_type": "stream",
          "text": [
            "values calculated, moving to simulations\n",
            "simulator iteration 549\n",
            "Runtime: 0:08:17.728527\n",
            "Runtime: 0:08:18.507668\n"
          ]
        }
      ],
      "source": [
        "gpr_training_set = simulate_data_set(N = 450, dims_to_use = ['h_tile'])\n",
        "gpr_validation_set = simulate_data_set(N = 550, dims_to_use = ['h_tile'])"
      ]
    },
    {
      "cell_type": "code",
      "execution_count": null,
      "metadata": {
        "id": "PRDJ9ZlFdOkD"
      },
      "outputs": [],
      "source": [
        "dimensions = lasso_training_set.drop('Final_temp', axis = 1)\n",
        "target = lasso_training_set['Final_temp']\n",
        "\n",
        "ss = SS()\n",
        "\n",
        "dimensions_st = ss.fit_transform(dimensions)"
      ]
    },
    {
      "cell_type": "code",
      "execution_count": null,
      "metadata": {
        "id": "-Imed4da6Ppv"
      },
      "outputs": [],
      "source": [
        "dimensions = gpr_training_set.drop('Final_temp', axis = 1)\n",
        "target = gpr_training_set['Final_temp']\n",
        "\n",
        "ss = SS()\n",
        "\n",
        "dimensions_st = ss.fit_transform(dimensions)"
      ]
    },
    {
      "cell_type": "code",
      "execution_count": null,
      "metadata": {
        "colab": {
          "base_uri": "https://localhost:8080/"
        },
        "id": "o9ynKWFpfCNP",
        "outputId": "d7fac041-18dd-4927-88af-07658b3dd7d3"
      },
      "outputs": [
        {
          "name": "stdout",
          "output_type": "stream",
          "text": [
            "Currently testing alpha = 0.5\n"
          ]
        }
      ],
      "source": [
        "training_scores = []\n",
        "testing_scores = []\n",
        "k = 100\n",
        "a_range = np.linspace(0.01, 0.5, 100)\n",
        "\n",
        "for a in a_range:\n",
        "    clear_output()\n",
        "    print('Currently testing alpha =', a)\n",
        "    las = Lasso(alpha=a)\n",
        "    tr,te = DoKFold(las,dimensions_st, target,k)\n",
        "\n",
        "    training_scores.append(tr)\n",
        "    testing_scores.append(te)\n",
        "\n",
        "mean_tr = []\n",
        "mean_te = []\n",
        "for score_set in training_scores:\n",
        "    mean_tr.append(np.mean(score_set))\n",
        "for te_set in testing_scores:\n",
        "    mean_te.append(np.mean(te_set))\n",
        "\n"
      ]
    },
    {
      "cell_type": "code",
      "execution_count": null,
      "metadata": {
        "colab": {
          "base_uri": "https://localhost:8080/",
          "height": 714
        },
        "id": "z5Bo4W8xcykB",
        "outputId": "8892b268-9c8e-4310-d84f-b85a79c464dc"
      },
      "outputs": [
        {
          "name": "stderr",
          "output_type": "stream",
          "text": [
            "WARNING:matplotlib.legend:No artists with labels found to put in legend.  Note that artists whose label start with an underscore are ignored when legend() is called with no argument.\n"
          ]
        },
        {
          "data": {
            "image/png": "[encoded data removed]",
            "text/plain": [
              "<Figure size 1000x800 with 1 Axes>"
            ]
          },
          "metadata": {},
          "output_type": "display_data"
        }
      ],
      "source": [
        "plot_train_test(mean_tr, mean_te, a_range)"
      ]
    },
    {
      "cell_type": "code",
      "execution_count": null,
      "metadata": {
        "colab": {
          "base_uri": "https://localhost:8080/"
        },
        "id": "Vs8j_7axigLR",
        "outputId": "fb0f484b-794b-4288-8b86-d30dd06a745b"
      },
      "outputs": [
        {
          "data": {
            "text/plain": [
              "0.4257575757575757"
            ]
          },
          "execution_count": 17,
          "metadata": {},
          "output_type": "execute_result"
        }
      ],
      "source": [
        "best_alpha = a_range[np.argmax(mean_te)]\n",
        "tuned_las = Lasso(alpha = best_alpha)\n",
        "best_alpha"
      ]
    },
    {
      "cell_type": "code",
      "execution_count": null,
      "metadata": {
        "colab": {
          "base_uri": "https://localhost:8080/"
        },
        "id": "_p62xI1fkoOX",
        "outputId": "4d74688a-b92c-4ad6-b761-90c5e264000e"
      },
      "outputs": [
        {
          "data": {
            "text/plain": [
              "0.9285828315427196"
            ]
          },
          "execution_count": 18,
          "metadata": {},
          "output_type": "execute_result"
        }
      ],
      "source": [
        "tuned_las.fit(dimensions_st, target)\n",
        "tuned_las.score(dimensions_st, target)"
      ]
    },
    {
      "cell_type": "code",
      "execution_count": null,
      "metadata": {
        "colab": {
          "base_uri": "https://localhost:8080/",
          "height": 92
        },
        "id": "h1Vq5pFY6LFf",
        "outputId": "87193951-8704-4758-b9f5-fc422de90c4b"
      },
      "outputs": [
        {
          "data": {
            "text/html": [
              "<style>#sk-container-id-1 {color: black;background-color: white;}#sk-container-id-1 pre{padding: 0;}#sk-container-id-1 div.sk-toggleable {background-color: white;}#sk-container-id-1 label.sk-toggleable__label {cursor: pointer;display: block;width: 100%;margin-bottom: 0;padding: 0.3em;box-sizing: border-box;text-align: center;}#sk-container-id-1 label.sk-toggleable__label-arrow:before {content: \"▸\";float: left;margin-right: 0.25em;color: #696969;}#sk-container-id-1 label.sk-toggleable__label-arrow:hover:before {color: black;}#sk-container-id-1 div.sk-estimator:hover label.sk-toggleable__label-arrow:before {color: black;}#sk-container-id-1 div.sk-toggleable__content {max-height: 0;max-width: 0;overflow: hidden;text-align: left;background-color: #f0f8ff;}#sk-container-id-1 div.sk-toggleable__content pre {margin: 0.2em;color: black;border-radius: 0.25em;background-color: #f0f8ff;}#sk-container-id-1 input.sk-toggleable__control:checked~div.sk-toggleable__content {max-height: 200px;max-width: 100%;overflow: auto;}#sk-container-id-1 input.sk-toggleable__control:checked~label.sk-toggleable__label-arrow:before {content: \"▾\";}#sk-container-id-1 div.sk-estimator input.sk-toggleable__control:checked~label.sk-toggleable__label {background-color: #d4ebff;}#sk-container-id-1 div.sk-label input.sk-toggleable__control:checked~label.sk-toggleable__label {background-color: #d4ebff;}#sk-container-id-1 input.sk-hidden--visually {border: 0;clip: rect(1px 1px 1px 1px);clip: rect(1px, 1px, 1px, 1px);height: 1px;margin: -1px;overflow: hidden;padding: 0;position: absolute;width: 1px;}#sk-container-id-1 div.sk-estimator {font-family: monospace;background-color: #f0f8ff;border: 1px dotted black;border-radius: 0.25em;box-sizing: border-box;margin-bottom: 0.5em;}#sk-container-id-1 div.sk-estimator:hover {background-color: #d4ebff;}#sk-container-id-1 div.sk-parallel-item::after {content: \"\";width: 100%;border-bottom: 1px solid gray;flex-grow: 1;}#sk-container-id-1 div.sk-label:hover label.sk-toggleable__label {background-color: #d4ebff;}#sk-container-id-1 div.sk-serial::before {content: \"\";position: absolute;border-left: 1px solid gray;box-sizing: border-box;top: 0;bottom: 0;left: 50%;z-index: 0;}#sk-container-id-1 div.sk-serial {display: flex;flex-direction: column;align-items: center;background-color: white;padding-right: 0.2em;padding-left: 0.2em;position: relative;}#sk-container-id-1 div.sk-item {position: relative;z-index: 1;}#sk-container-id-1 div.sk-parallel {display: flex;align-items: stretch;justify-content: center;background-color: white;position: relative;}#sk-container-id-1 div.sk-item::before, #sk-container-id-1 div.sk-parallel-item::before {content: \"\";position: absolute;border-left: 1px solid gray;box-sizing: border-box;top: 0;bottom: 0;left: 50%;z-index: -1;}#sk-container-id-1 div.sk-parallel-item {display: flex;flex-direction: column;z-index: 1;position: relative;background-color: white;}#sk-container-id-1 div.sk-parallel-item:first-child::after {align-self: flex-end;width: 50%;}#sk-container-id-1 div.sk-parallel-item:last-child::after {align-self: flex-start;width: 50%;}#sk-container-id-1 div.sk-parallel-item:only-child::after {width: 0;}#sk-container-id-1 div.sk-dashed-wrapped {border: 1px dashed gray;margin: 0 0.4em 0.5em 0.4em;box-sizing: border-box;padding-bottom: 0.4em;background-color: white;}#sk-container-id-1 div.sk-label label {font-family: monospace;font-weight: bold;display: inline-block;line-height: 1.2em;}#sk-container-id-1 div.sk-label-container {text-align: center;}#sk-container-id-1 div.sk-container {/* jupyter's `normalize.less` sets `[hidden] { display: none; }` but bootstrap.min.css set `[hidden] { display: none !important; }` so we also need the `!important` here to be able to override the default hidden behavior on the sphinx rendered scikit-learn.org. See: https://github.com/scikit-learn/scikit-learn/issues/21755 */display: inline-block !important;position: relative;}#sk-container-id-1 div.sk-text-repr-fallback {display: none;}</style><div id=\"sk-container-id-1\" class=\"sk-top-container\"><div class=\"sk-text-repr-fallback\"><pre>GaussianProcessRegressor(kernel=1**2 * RBF(length_scale=1),\n",
              "                         n_restarts_optimizer=9, normalize_y=True)</pre><b>In a Jupyter environment, please rerun this cell to show the HTML representation or trust the notebook. <br />On GitHub, the HTML representation is unable to render, please try loading this page with nbviewer.org.</b></div><div class=\"sk-container\" hidden><div class=\"sk-item\"><div class=\"sk-estimator sk-toggleable\"><input class=\"sk-toggleable__control sk-hidden--visually\" id=\"sk-estimator-id-1\" type=\"checkbox\" checked><label for=\"sk-estimator-id-1\" class=\"sk-toggleable__label sk-toggleable__label-arrow\">GaussianProcessRegressor</label><div class=\"sk-toggleable__content\"><pre>GaussianProcessRegressor(kernel=1**2 * RBF(length_scale=1),\n",
              "                         n_restarts_optimizer=9, normalize_y=True)</pre></div></div></div></div></div>"
            ],
            "text/plain": [
              "GaussianProcessRegressor(kernel=1**2 * RBF(length_scale=1),\n",
              "                         n_restarts_optimizer=9, normalize_y=True)"
            ]
          },
          "execution_count": 20,
          "metadata": {},
          "output_type": "execute_result"
        }
      ],
      "source": [
        "from sklearn.gaussian_process import GaussianProcessRegressor\n",
        "\n",
        "constant = 1\n",
        "\n",
        "kernel = constant * RBF(length_scale= 1.0, length_scale_bounds=(1e-3, 1e3))\n",
        "\n",
        "gpr = GaussianProcessRegressor(kernel=kernel, n_restarts_optimizer=9, normalize_y = True)\n",
        "\n",
        "gpr.fit(dimensions_st, target)"
      ]
    },
    {
      "cell_type": "code",
      "execution_count": null,
      "metadata": {
        "id": "Th36tAqEjG1L"
      },
      "outputs": [],
      "source": [
        "def use_surrogate_model(model, volume, dims_to_use = [], prop_var = 0.1):\n",
        "  overall_start = dt.now()\n",
        "  import random\n",
        "  from sklearn.preprocessing import StandardScaler as SS\n",
        "  from IPython.display import clear_output\n",
        "\n",
        "  sim_input = []\n",
        "  #Baseline values for each variable as a dict\n",
        "\n",
        "  baseline = {'t_final': [60, 60*prop_var],  # [sec]\n",
        "                  'h_tile': [.0254, .0254*prop_var],    # [m]\n",
        "                  'h_Ti': [0.00015, 0.00015*prop_var],    # [m]\n",
        "                  'rho_tile': [144, 144*prop_var],   # [kg/m^3]\n",
        "                  'rho_Ti': [4540, 4540*prop_var],  # [kg/m^3]\n",
        "                  'cp_tile': [628, 628*prop_var],   # [J/kg*K]\n",
        "                  'cp_Ti': [460, 460*prop_var],   # [J/kg*K]\n",
        "                  'k_tile': [0.126, 0.126*prop_var], # [W/mK]\n",
        "                  'k_Ti': [7.1, 7.1*prop_var],   # [W/mK]\n",
        "                  'emissivity': [0.8, 0.8*prop_var],\n",
        "                  'M_inf': [5.0, 5.0*prop_var],     # Freestream Mach number\n",
        "                  'p_inf': [2736.0, 2736.0*prop_var],  # Freestream pressure [Pa]\n",
        "                  'T_inf': [284.0, 284*prop_var],   # Freestream temperature [K]\n",
        "                  'fudge_factor': [1.0, 1.0*prop_var]\n",
        "                  }\n",
        "\n",
        "  sim_data = pd.DataFrame()\n",
        "\n",
        "  for k,v in baseline.items():\n",
        "    column = []\n",
        "    for n in range(volume):\n",
        "      if k in dims_to_use:\n",
        "        column.append(random.gauss(v[0], v[1]))\n",
        "      else:\n",
        "        column.append(v[0])\n",
        "    sim_data[k] = column\n",
        "\n",
        "  print('values calculated, moving to simulations')\n",
        "\n",
        "  ss = SS()\n",
        "  st_data = ss.fit_transform(sim_data)\n",
        "\n",
        "  preds = model.predict(st_data)\n",
        "\n",
        "  sim_data['Final_temp'] = preds\n",
        "\n",
        "  print('Simulation complete')\n",
        "\n",
        "\n",
        "  return(sim_data)"
      ]
    },
    {
      "cell_type": "code",
      "execution_count": null,
      "metadata": {
        "colab": {
          "base_uri": "https://localhost:8080/"
        },
        "id": "SSoEdcMokCtd",
        "outputId": "5978bfaf-10f7-4bf8-b108-44625fc0365a"
      },
      "outputs": [
        {
          "name": "stdout",
          "output_type": "stream",
          "text": [
            "values calculated, moving to simulations\n",
            "Simulation complete\n"
          ]
        }
      ],
      "source": [
        "new_data = use_surrogate_model(model = gpr, volume = 550, dims_to_use = ['h_tile'])"
      ]
    },
    {
      "cell_type": "code",
      "execution_count": null,
      "metadata": {
        "colab": {
          "base_uri": "https://localhost:8080/",
          "height": 424
        },
        "id": "IgCmLtK06FwI",
        "outputId": "d981cd1d-fe6d-4d98-c5f0-a830308fd6f6"
      },
      "outputs": [
        {
          "data": {
            "text/html": [
              "\n",
              "\n",
              "  <div id=\"df-ae95c170-8fee-4175-a790-fa17b71bb3f2\">\n",
              "    <div class=\"colab-df-container\">\n",
              "      <div>\n",
              "<style scoped>\n",
              "    .dataframe tbody tr th:only-of-type {\n",
              "        vertical-align: middle;\n",
              "    }\n",
              "\n",
              "    .dataframe tbody tr th {\n",
              "        vertical-align: top;\n",
              "    }\n",
              "\n",
              "    .dataframe thead th {\n",
              "        text-align: right;\n",
              "    }\n",
              "</style>\n",
              "<table border=\"1\" class=\"dataframe\">\n",
              "  <thead>\n",
              "    <tr style=\"text-align: right;\">\n",
              "      <th></th>\n",
              "      <th>t_final</th>\n",
              "      <th>h_tile</th>\n",
              "      <th>h_Ti</th>\n",
              "      <th>rho_tile</th>\n",
              "      <th>rho_Ti</th>\n",
              "      <th>cp_tile</th>\n",
              "      <th>cp_Ti</th>\n",
              "      <th>k_tile</th>\n",
              "      <th>k_Ti</th>\n",
              "      <th>emissivity</th>\n",
              "      <th>M_inf</th>\n",
              "      <th>p_inf</th>\n",
              "      <th>T_inf</th>\n",
              "      <th>fudge_factor</th>\n",
              "      <th>Final_temp</th>\n",
              "    </tr>\n",
              "  </thead>\n",
              "  <tbody>\n",
              "    <tr>\n",
              "      <th>0</th>\n",
              "      <td>60</td>\n",
              "      <td>0.031858</td>\n",
              "      <td>0.00015</td>\n",
              "      <td>144</td>\n",
              "      <td>4540</td>\n",
              "      <td>628</td>\n",
              "      <td>460</td>\n",
              "      <td>0.126</td>\n",
              "      <td>7.1</td>\n",
              "      <td>0.8</td>\n",
              "      <td>5.0</td>\n",
              "      <td>2736.0</td>\n",
              "      <td>284.0</td>\n",
              "      <td>1.0</td>\n",
              "      <td>311.773403</td>\n",
              "    </tr>\n",
              "    <tr>\n",
              "      <th>1</th>\n",
              "      <td>60</td>\n",
              "      <td>0.025441</td>\n",
              "      <td>0.00015</td>\n",
              "      <td>144</td>\n",
              "      <td>4540</td>\n",
              "      <td>628</td>\n",
              "      <td>460</td>\n",
              "      <td>0.126</td>\n",
              "      <td>7.1</td>\n",
              "      <td>0.8</td>\n",
              "      <td>5.0</td>\n",
              "      <td>2736.0</td>\n",
              "      <td>284.0</td>\n",
              "      <td>1.0</td>\n",
              "      <td>342.471946</td>\n",
              "    </tr>\n",
              "    <tr>\n",
              "      <th>2</th>\n",
              "      <td>60</td>\n",
              "      <td>0.023052</td>\n",
              "      <td>0.00015</td>\n",
              "      <td>144</td>\n",
              "      <td>4540</td>\n",
              "      <td>628</td>\n",
              "      <td>460</td>\n",
              "      <td>0.126</td>\n",
              "      <td>7.1</td>\n",
              "      <td>0.8</td>\n",
              "      <td>5.0</td>\n",
              "      <td>2736.0</td>\n",
              "      <td>284.0</td>\n",
              "      <td>1.0</td>\n",
              "      <td>365.132244</td>\n",
              "    </tr>\n",
              "    <tr>\n",
              "      <th>3</th>\n",
              "      <td>60</td>\n",
              "      <td>0.023287</td>\n",
              "      <td>0.00015</td>\n",
              "      <td>144</td>\n",
              "      <td>4540</td>\n",
              "      <td>628</td>\n",
              "      <td>460</td>\n",
              "      <td>0.126</td>\n",
              "      <td>7.1</td>\n",
              "      <td>0.8</td>\n",
              "      <td>5.0</td>\n",
              "      <td>2736.0</td>\n",
              "      <td>284.0</td>\n",
              "      <td>1.0</td>\n",
              "      <td>362.521825</td>\n",
              "    </tr>\n",
              "    <tr>\n",
              "      <th>4</th>\n",
              "      <td>60</td>\n",
              "      <td>0.028073</td>\n",
              "      <td>0.00015</td>\n",
              "      <td>144</td>\n",
              "      <td>4540</td>\n",
              "      <td>628</td>\n",
              "      <td>460</td>\n",
              "      <td>0.126</td>\n",
              "      <td>7.1</td>\n",
              "      <td>0.8</td>\n",
              "      <td>5.0</td>\n",
              "      <td>2736.0</td>\n",
              "      <td>284.0</td>\n",
              "      <td>1.0</td>\n",
              "      <td>325.696056</td>\n",
              "    </tr>\n",
              "    <tr>\n",
              "      <th>...</th>\n",
              "      <td>...</td>\n",
              "      <td>...</td>\n",
              "      <td>...</td>\n",
              "      <td>...</td>\n",
              "      <td>...</td>\n",
              "      <td>...</td>\n",
              "      <td>...</td>\n",
              "      <td>...</td>\n",
              "      <td>...</td>\n",
              "      <td>...</td>\n",
              "      <td>...</td>\n",
              "      <td>...</td>\n",
              "      <td>...</td>\n",
              "      <td>...</td>\n",
              "      <td>...</td>\n",
              "    </tr>\n",
              "    <tr>\n",
              "      <th>545</th>\n",
              "      <td>60</td>\n",
              "      <td>0.030179</td>\n",
              "      <td>0.00015</td>\n",
              "      <td>144</td>\n",
              "      <td>4540</td>\n",
              "      <td>628</td>\n",
              "      <td>460</td>\n",
              "      <td>0.126</td>\n",
              "      <td>7.1</td>\n",
              "      <td>0.8</td>\n",
              "      <td>5.0</td>\n",
              "      <td>2736.0</td>\n",
              "      <td>284.0</td>\n",
              "      <td>1.0</td>\n",
              "      <td>316.787099</td>\n",
              "    </tr>\n",
              "    <tr>\n",
              "      <th>546</th>\n",
              "      <td>60</td>\n",
              "      <td>0.027937</td>\n",
              "      <td>0.00015</td>\n",
              "      <td>144</td>\n",
              "      <td>4540</td>\n",
              "      <td>628</td>\n",
              "      <td>460</td>\n",
              "      <td>0.126</td>\n",
              "      <td>7.1</td>\n",
              "      <td>0.8</td>\n",
              "      <td>5.0</td>\n",
              "      <td>2736.0</td>\n",
              "      <td>284.0</td>\n",
              "      <td>1.0</td>\n",
              "      <td>326.395343</td>\n",
              "    </tr>\n",
              "    <tr>\n",
              "      <th>547</th>\n",
              "      <td>60</td>\n",
              "      <td>0.025123</td>\n",
              "      <td>0.00015</td>\n",
              "      <td>144</td>\n",
              "      <td>4540</td>\n",
              "      <td>628</td>\n",
              "      <td>460</td>\n",
              "      <td>0.126</td>\n",
              "      <td>7.1</td>\n",
              "      <td>0.8</td>\n",
              "      <td>5.0</td>\n",
              "      <td>2736.0</td>\n",
              "      <td>284.0</td>\n",
              "      <td>1.0</td>\n",
              "      <td>345.030308</td>\n",
              "    </tr>\n",
              "    <tr>\n",
              "      <th>548</th>\n",
              "      <td>60</td>\n",
              "      <td>0.027297</td>\n",
              "      <td>0.00015</td>\n",
              "      <td>144</td>\n",
              "      <td>4540</td>\n",
              "      <td>628</td>\n",
              "      <td>460</td>\n",
              "      <td>0.126</td>\n",
              "      <td>7.1</td>\n",
              "      <td>0.8</td>\n",
              "      <td>5.0</td>\n",
              "      <td>2736.0</td>\n",
              "      <td>284.0</td>\n",
              "      <td>1.0</td>\n",
              "      <td>329.901007</td>\n",
              "    </tr>\n",
              "    <tr>\n",
              "      <th>549</th>\n",
              "      <td>60</td>\n",
              "      <td>0.024728</td>\n",
              "      <td>0.00015</td>\n",
              "      <td>144</td>\n",
              "      <td>4540</td>\n",
              "      <td>628</td>\n",
              "      <td>460</td>\n",
              "      <td>0.126</td>\n",
              "      <td>7.1</td>\n",
              "      <td>0.8</td>\n",
              "      <td>5.0</td>\n",
              "      <td>2736.0</td>\n",
              "      <td>284.0</td>\n",
              "      <td>1.0</td>\n",
              "      <td>348.388109</td>\n",
              "    </tr>\n",
              "  </tbody>\n",
              "</table>\n",
              "<p>550 rows × 15 columns</p>\n",
              "</div>\n",
              "      <button class=\"colab-df-convert\" onclick=\"convertToInteractive('df-ae95c170-8fee-4175-a790-fa17b71bb3f2')\"\n",
              "              title=\"Convert this dataframe to an interactive table.\"\n",
              "              style=\"display:none;\">\n",
              "\n",
              "  <svg xmlns=\"http://www.w3.org/2000/svg\" height=\"24px\"viewBox=\"0 0 24 24\"\n",
              "       width=\"24px\">\n",
              "    <path d=\"M0 0h24v24H0V0z\" fill=\"none\"/>\n",
              "    <path d=\"M18.56 5.44l.94 2.06.94-2.06 2.06-.94-2.06-.94-.94-2.06-.94 2.06-2.06.94zm-11 1L8.5 8.5l.94-2.06 2.06-.94-2.06-.94L8.5 2.5l-.94 2.06-2.06.94zm10 10l.94 2.06.94-2.06 2.06-.94-2.06-.94-.94-2.06-.94 2.06-2.06.94z\"/><path d=\"M17.41 7.96l-1.37-1.37c-.4-.4-.92-.59-1.43-.59-.52 0-1.04.2-1.43.59L10.3 9.45l-7.72 7.72c-.78.78-.78 2.05 0 2.83L4 21.41c.39.39.9.59 1.41.59.51 0 1.02-.2 1.41-.59l7.78-7.78 2.81-2.81c.8-.78.8-2.07 0-2.86zM5.41 20L4 18.59l7.72-7.72 1.47 1.35L5.41 20z\"/>\n",
              "  </svg>\n",
              "      </button>\n",
              "\n",
              "\n",
              "\n",
              "    <div id=\"df-d420e1bf-189b-43ca-b6c7-8b7bb66dcef8\">\n",
              "      <button class=\"colab-df-quickchart\" onclick=\"quickchart('df-d420e1bf-189b-43ca-b6c7-8b7bb66dcef8')\"\n",
              "              title=\"Suggest charts.\"\n",
              "              style=\"display:none;\">\n",
              "\n",
              "<svg xmlns=\"http://www.w3.org/2000/svg\" height=\"24px\"viewBox=\"0 0 24 24\"\n",
              "     width=\"24px\">\n",
              "    <g>\n",
              "        <path d=\"M19 3H5c-1.1 0-2 .9-2 2v14c0 1.1.9 2 2 2h14c1.1 0 2-.9 2-2V5c0-1.1-.9-2-2-2zM9 17H7v-7h2v7zm4 0h-2V7h2v10zm4 0h-2v-4h2v4z\"/>\n",
              "    </g>\n",
              "</svg>\n",
              "      </button>\n",
              "    </div>\n",
              "\n",
              "<style>\n",
              "  .colab-df-quickchart {\n",
              "    background-color: #E8F0FE;\n",
              "    border: none;\n",
              "    border-radius: 50%;\n",
              "    cursor: pointer;\n",
              "    display: none;\n",
              "    fill: #1967D2;\n",
              "    height: 32px;\n",
              "    padding: 0 0 0 0;\n",
              "    width: 32px;\n",
              "  }\n",
              "\n",
              "  .colab-df-quickchart:hover {\n",
              "    background-color: #E2EBFA;\n",
              "    box-shadow: 0px 1px 2px rgba(60, 64, 67, 0.3), 0px 1px 3px 1px rgba(60, 64, 67, 0.15);\n",
              "    fill: #174EA6;\n",
              "  }\n",
              "\n",
              "  [theme=dark] .colab-df-quickchart {\n",
              "    background-color: #3B4455;\n",
              "    fill: #D2E3FC;\n",
              "  }\n",
              "\n",
              "  [theme=dark] .colab-df-quickchart:hover {\n",
              "    background-color: #434B5C;\n",
              "    box-shadow: 0px 1px 3px 1px rgba(0, 0, 0, 0.15);\n",
              "    filter: drop-shadow(0px 1px 2px rgba(0, 0, 0, 0.3));\n",
              "    fill: #FFFFFF;\n",
              "  }\n",
              "</style>\n",
              "\n",
              "    <script>\n",
              "      async function quickchart(key) {\n",
              "        const containerElement = document.querySelector('#' + key);\n",
              "        const charts = await google.colab.kernel.invokeFunction(\n",
              "            'suggestCharts', [key], {});\n",
              "      }\n",
              "    </script>\n",
              "\n",
              "      <script>\n",
              "\n",
              "function displayQuickchartButton(domScope) {\n",
              "  let quickchartButtonEl =\n",
              "    domScope.querySelector('#df-d420e1bf-189b-43ca-b6c7-8b7bb66dcef8 button.colab-df-quickchart');\n",
              "  quickchartButtonEl.style.display =\n",
              "    google.colab.kernel.accessAllowed ? 'block' : 'none';\n",
              "}\n",
              "\n",
              "        displayQuickchartButton(document);\n",
              "      </script>\n",
              "      <style>\n",
              "    .colab-df-container {\n",
              "      display:flex;\n",
              "      flex-wrap:wrap;\n",
              "      gap: 12px;\n",
              "    }\n",
              "\n",
              "    .colab-df-convert {\n",
              "      background-color: #E8F0FE;\n",
              "      border: none;\n",
              "      border-radius: 50%;\n",
              "      cursor: pointer;\n",
              "      display: none;\n",
              "      fill: #1967D2;\n",
              "      height: 32px;\n",
              "      padding: 0 0 0 0;\n",
              "      width: 32px;\n",
              "    }\n",
              "\n",
              "    .colab-df-convert:hover {\n",
              "      background-color: #E2EBFA;\n",
              "      box-shadow: 0px 1px 2px rgba(60, 64, 67, 0.3), 0px 1px 3px 1px rgba(60, 64, 67, 0.15);\n",
              "      fill: #174EA6;\n",
              "    }\n",
              "\n",
              "    [theme=dark] .colab-df-convert {\n",
              "      background-color: #3B4455;\n",
              "      fill: #D2E3FC;\n",
              "    }\n",
              "\n",
              "    [theme=dark] .colab-df-convert:hover {\n",
              "      background-color: #434B5C;\n",
              "      box-shadow: 0px 1px 3px 1px rgba(0, 0, 0, 0.15);\n",
              "      filter: drop-shadow(0px 1px 2px rgba(0, 0, 0, 0.3));\n",
              "      fill: #FFFFFF;\n",
              "    }\n",
              "  </style>\n",
              "\n",
              "      <script>\n",
              "        const buttonEl =\n",
              "          document.querySelector('#df-ae95c170-8fee-4175-a790-fa17b71bb3f2 button.colab-df-convert');\n",
              "        buttonEl.style.display =\n",
              "          google.colab.kernel.accessAllowed ? 'block' : 'none';\n",
              "\n",
              "        async function convertToInteractive(key) {\n",
              "          const element = document.querySelector('#df-ae95c170-8fee-4175-a790-fa17b71bb3f2');\n",
              "          const dataTable =\n",
              "            await google.colab.kernel.invokeFunction('convertToInteractive',\n",
              "                                                     [key], {});\n",
              "          if (!dataTable) return;\n",
              "\n",
              "          const docLinkHtml = 'Like what you see? Visit the ' +\n",
              "            '<a target=\"_blank\" href=https://colab.research.google.com/notebooks/data_table.ipynb>data table notebook</a>'\n",
              "            + ' to learn more about interactive tables.';\n",
              "          element.innerHTML = '';\n",
              "          dataTable['output_type'] = 'display_data';\n",
              "          await google.colab.output.renderOutput(dataTable, element);\n",
              "          const docLink = document.createElement('div');\n",
              "          docLink.innerHTML = docLinkHtml;\n",
              "          element.appendChild(docLink);\n",
              "        }\n",
              "      </script>\n",
              "    </div>\n",
              "  </div>\n"
            ],
            "text/plain": [
              "     t_final    h_tile     h_Ti  rho_tile  rho_Ti  cp_tile  cp_Ti  k_tile  \\\n",
              "0         60  0.031858  0.00015       144    4540      628    460   0.126   \n",
              "1         60  0.025441  0.00015       144    4540      628    460   0.126   \n",
              "2         60  0.023052  0.00015       144    4540      628    460   0.126   \n",
              "3         60  0.023287  0.00015       144    4540      628    460   0.126   \n",
              "4         60  0.028073  0.00015       144    4540      628    460   0.126   \n",
              "..       ...       ...      ...       ...     ...      ...    ...     ...   \n",
              "545       60  0.030179  0.00015       144    4540      628    460   0.126   \n",
              "546       60  0.027937  0.00015       144    4540      628    460   0.126   \n",
              "547       60  0.025123  0.00015       144    4540      628    460   0.126   \n",
              "548       60  0.027297  0.00015       144    4540      628    460   0.126   \n",
              "549       60  0.024728  0.00015       144    4540      628    460   0.126   \n",
              "\n",
              "     k_Ti  emissivity  M_inf   p_inf  T_inf  fudge_factor  Final_temp  \n",
              "0     7.1         0.8    5.0  2736.0  284.0           1.0  311.773403  \n",
              "1     7.1         0.8    5.0  2736.0  284.0           1.0  342.471946  \n",
              "2     7.1         0.8    5.0  2736.0  284.0           1.0  365.132244  \n",
              "3     7.1         0.8    5.0  2736.0  284.0           1.0  362.521825  \n",
              "4     7.1         0.8    5.0  2736.0  284.0           1.0  325.696056  \n",
              "..    ...         ...    ...     ...    ...           ...         ...  \n",
              "545   7.1         0.8    5.0  2736.0  284.0           1.0  316.787099  \n",
              "546   7.1         0.8    5.0  2736.0  284.0           1.0  326.395343  \n",
              "547   7.1         0.8    5.0  2736.0  284.0           1.0  345.030308  \n",
              "548   7.1         0.8    5.0  2736.0  284.0           1.0  329.901007  \n",
              "549   7.1         0.8    5.0  2736.0  284.0           1.0  348.388109  \n",
              "\n",
              "[550 rows x 15 columns]"
            ]
          },
          "execution_count": 24,
          "metadata": {},
          "output_type": "execute_result"
        }
      ],
      "source": [
        "new_data"
      ]
    },
    {
      "cell_type": "code",
      "execution_count": null,
      "metadata": {
        "id": "YMx6ZuLfoqgB"
      },
      "outputs": [],
      "source": [
        "#lasso_training_set = lasso_training_set.rename(columns = {'simulator_values': 'Final_temp'})\n",
        "#new_data = new_data.rename(columns = {'Model_predictions': 'Final_temp'})"
      ]
    },
    {
      "cell_type": "code",
      "execution_count": null,
      "metadata": {
        "id": "e1LnZmEq17t0"
      },
      "outputs": [],
      "source": [
        "Validation_dims = lasso_validation_set.drop('Final_temp', axis = 1)\n",
        "validation_target = lasso_validation_set['Final_temp']\n",
        "\n",
        "ss = SS()\n",
        "\n",
        "Validation_dims_st = ss.fit_transform(Validation_dims)\n"
      ]
    },
    {
      "cell_type": "code",
      "execution_count": null,
      "metadata": {
        "id": "BsEPu1zm65H-"
      },
      "outputs": [],
      "source": [
        "Validation_dims = gpr_validation_set.drop('Final_temp', axis = 1)\n",
        "validation_target = gpr_validation_set['Final_temp']\n",
        "\n",
        "ss = SS()\n",
        "\n",
        "Validation_dims_st = ss.fit_transform(Validation_dims)\n"
      ]
    },
    {
      "cell_type": "code",
      "execution_count": null,
      "metadata": {
        "id": "Mv7M_7z92NQo"
      },
      "outputs": [],
      "source": [
        "validation_preds = tuned_las.predict(Validation_dims_st)\n"
      ]
    },
    {
      "cell_type": "code",
      "execution_count": null,
      "metadata": {
        "colab": {
          "base_uri": "https://localhost:8080/",
          "height": 490
        },
        "id": "W4l0phtF2lsw",
        "outputId": "b2c915fb-599d-4057-9382-677f036b7710"
      },
      "outputs": [
        {
          "data": {
            "text/plain": [
              "<matplotlib.legend.Legend at 0x7907c12b76d0>"
            ]
          },
          "execution_count": 29,
          "metadata": {},
          "output_type": "execute_result"
        },
        {
          "data": {
            "image/png": "[encoded data removed]",
            "text/plain": [
              "<Figure size 640x480 with 1 Axes>"
            ]
          },
          "metadata": {},
          "output_type": "display_data"
        }
      ],
      "source": [
        "plt.hist(validation_preds, alpha = 0.75)\n",
        "plt.hist(validation_target, alpha = 0.75)\n",
        "\n",
        "plt.xlabel('Final Temperature')\n",
        "plt.ylabel('Frequency')\n",
        "\n",
        "\n",
        "plt.title('Comparison on validation set of 550')\n",
        "#plt.figtext('Distributions of final temperatures from a validation set of 550 and the predicted values of those 550 temperatures')\n",
        "\n",
        "plt.legend(['Lasso', 'Simulaor'])"
      ]
    },
    {
      "cell_type": "code",
      "execution_count": null,
      "metadata": {
        "colab": {
          "base_uri": "https://localhost:8080/"
        },
        "id": "1vNXnj9C21XH",
        "outputId": "904866f2-77cc-4f1b-d154-c9e9d17005dc"
      },
      "outputs": [
        {
          "data": {
            "text/plain": [
              "KstestResult(statistic=0.06727272727272728, pvalue=0.16594191052452847, statistic_location=342.7923442305104, statistic_sign=-1)"
            ]
          },
          "execution_count": 33,
          "metadata": {},
          "output_type": "execute_result"
        }
      ],
      "source": [
        "ks_2samp(validation_preds, validation_target)"
      ]
    },
    {
      "cell_type": "code",
      "execution_count": null,
      "metadata": {
        "colab": {
          "base_uri": "https://localhost:8080/"
        },
        "id": "SsaBuiNiO_Bb",
        "outputId": "62e97eb6-e394-4dd2-bf90-28eb7acf19eb"
      },
      "outputs": [
        {
          "data": {
            "text/plain": [
              "4.225033837061326"
            ]
          },
          "execution_count": 34,
          "metadata": {},
          "output_type": "execute_result"
        }
      ],
      "source": [
        "wasserstein_distance(validation_preds, validation_target)"
      ]
    },
    {
      "cell_type": "markdown",
      "metadata": {
        "id": "huV0KkrZmr8G"
      },
      "source": [
        "### Testing on all dimensions"
      ]
    },
    {
      "cell_type": "code",
      "execution_count": null,
      "metadata": {
        "colab": {
          "background_save": true,
          "base_uri": "https://localhost:8080/"
        },
        "id": "Ff777oGY9egW",
        "outputId": "70a8531c-bbbc-4e1a-94a7-7e7e73c4ae49"
      },
      "outputs": [
        {
          "name": "stdout",
          "output_type": "stream",
          "text": [
            "values calculated, moving to simulations\n",
            "simulator iteration 549\n",
            "Runtime: 0:08:05.553979\n",
            "Runtime: 0:08:06.331764\n"
          ]
        }
      ],
      "source": [
        "tr = simulate_data_set(N = 450, dims_to_use = [])\n",
        "te = simulate_data_set(N = 550, dims_to_use = [])"
      ]
    },
    {
      "cell_type": "code",
      "execution_count": null,
      "metadata": {
        "colab": {
          "background_save": true
        },
        "id": "uOt5n9gcsD6e",
        "outputId": "dc0b0a55-1817-460e-e54b-e778bdb2bfd7"
      },
      "outputs": [
        {
          "data": {
            "text/plain": [
              "(array([149., 194., 119.,  47.,  23.,   9.,   4.,   3.,   1.,   1.]),\n",
              " array([302.03397614, 325.70340159, 349.37282703, 373.04225248,\n",
              "        396.71167792, 420.38110336, 444.05052881, 467.71995425,\n",
              "        491.3893797 , 515.05880514, 538.72823059]),\n",
              " <BarContainer object of 10 artists>)"
            ]
          },
          "execution_count": 36,
          "metadata": {},
          "output_type": "execute_result"
        },
        {
          "data": {
            "image/png": "[encoded data removed]",
            "text/plain": [
              "<Figure size 640x480 with 1 Axes>"
            ]
          },
          "metadata": {},
          "output_type": "display_data"
        }
      ],
      "source": [
        "plt.hist(tr['Final_temp'], alpha = 0.5)\n",
        "plt.hist(te['Final_temp'], alpha = 0.5)"
      ]
    },
    {
      "cell_type": "code",
      "execution_count": null,
      "metadata": {
        "colab": {
          "background_save": true
        },
        "id": "X8yVuHPeGkhP"
      },
      "outputs": [],
      "source": [
        "tr_X = tr.drop('Final_temp', axis = 1)\n",
        "tr_y = tr['Final_temp']\n",
        "\n",
        "ss_tr = SS()\n",
        "tr_X_st = ss_tr.fit_transform(tr_X)\n",
        "\n",
        "\n",
        "te_X = te.drop('Final_temp', axis = 1)\n",
        "te_y = te['Final_temp']\n",
        "\n",
        "ss_te = SS()\n",
        "te_X_st = ss_tr.fit_transform(te_X)"
      ]
    },
    {
      "cell_type": "code",
      "execution_count": null,
      "metadata": {
        "colab": {
          "background_save": true
        },
        "id": "xBnX77URGev8",
        "outputId": "aa024610-a1db-4478-d062-c7f35a663c29"
      },
      "outputs": [
        {
          "name": "stdout",
          "output_type": "stream",
          "text": [
            "Currently testing alpha = 0.5\n"
          ]
        }
      ],
      "source": [
        "training_scores = []\n",
        "testing_scores = []\n",
        "k = 100\n",
        "a_range = np.linspace(0.01, 0.5, 100)\n",
        "\n",
        "for a in a_range:\n",
        "    clear_output()\n",
        "    print('Currently testing alpha =', a)\n",
        "    las = Lasso(alpha=a)\n",
        "    tr,te = DoKFold(las,tr_X_st, tr_y,k)\n",
        "\n",
        "    training_scores.append(tr)\n",
        "    testing_scores.append(te)\n",
        "\n",
        "mean_tr = []\n",
        "mean_te = []\n",
        "for score_set in training_scores:\n",
        "    mean_tr.append(np.mean(score_set))\n",
        "for te_set in testing_scores:\n",
        "    mean_te.append(np.mean(te_set))\n",
        "\n"
      ]
    },
    {
      "cell_type": "code",
      "execution_count": null,
      "metadata": {
        "colab": {
          "background_save": true
        },
        "id": "N7dSvm00MDxZ",
        "outputId": "04096b04-a2bd-4f3b-b02b-2506a325f27b"
      },
      "outputs": [
        {
          "name": "stderr",
          "output_type": "stream",
          "text": [
            "WARNING:matplotlib.legend:No artists with labels found to put in legend.  Note that artists whose label start with an underscore are ignored when legend() is called with no argument.\n"
          ]
        },
        {
          "data": {
            "image/png": "[encoded data removed]",
            "text/plain": [
              "<Figure size 1000x800 with 1 Axes>"
            ]
          },
          "metadata": {},
          "output_type": "display_data"
        }
      ],
      "source": [
        "plot_train_test(mean_tr, mean_te, a_range)"
      ]
    },
    {
      "cell_type": "code",
      "execution_count": null,
      "metadata": {
        "colab": {
          "background_save": true
        },
        "id": "FOKCfDEwMedO",
        "outputId": "72e64923-9594-4391-eba0-cdf4b37c1d4d"
      },
      "outputs": [
        {
          "data": {
            "text/plain": [
              "0.13373737373737374"
            ]
          },
          "execution_count": 40,
          "metadata": {},
          "output_type": "execute_result"
        }
      ],
      "source": [
        "best_alpha = a_range[np.argmax(mean_te)]\n",
        "tuned_las = Lasso(alpha = best_alpha)\n",
        "best_alpha"
      ]
    },
    {
      "cell_type": "code",
      "execution_count": null,
      "metadata": {
        "colab": {
          "background_save": true
        },
        "id": "u2ceQzSkMe3D",
        "outputId": "647b5908-8371-4efd-cfe5-ac201d3a4fff"
      },
      "outputs": [
        {
          "data": {
            "text/plain": [
              "0.8836466388017874"
            ]
          },
          "execution_count": 41,
          "metadata": {},
          "output_type": "execute_result"
        }
      ],
      "source": [
        "tuned_las.fit(tr_X_st, tr_y)\n",
        "tuned_las.score(tr_X_st, tr_y)"
      ]
    },
    {
      "cell_type": "code",
      "execution_count": null,
      "metadata": {
        "colab": {
          "background_save": true
        },
        "id": "uxQMziOdMpN5"
      },
      "outputs": [],
      "source": [
        "val_preds = tuned_las.predict(te_X_st)"
      ]
    },
    {
      "cell_type": "code",
      "execution_count": null,
      "metadata": {
        "colab": {
          "background_save": true
        },
        "id": "2uiVST2kmUmJ",
        "outputId": "dd47deb7-fd58-42be-cc64-42e69dbc8bd7"
      },
      "outputs": [
        {
          "name": "stdout",
          "output_type": "stream",
          "text": [
            "127.56953596959045\n",
            "8.52343037430357\n",
            "0.8763012403489641\n"
          ]
        }
      ],
      "source": [
        "print(mean_squared_error(te_y, val_preds))\n",
        "print(mean_absolute_error(te_y, val_preds))\n",
        "print(r2_score(te_y, val_preds))\n"
      ]
    },
    {
      "cell_type": "code",
      "execution_count": null,
      "metadata": {
        "colab": {
          "background_save": true
        },
        "id": "G6kmiKylrlEx",
        "outputId": "8632cd60-ad04-4e65-d741-c67aff7881c0"
      },
      "outputs": [
        {
          "name": "stdout",
          "output_type": "stream",
          "text": [
            "1.9923323685175092\n",
            "-1.8157362001688284\n"
          ]
        }
      ],
      "source": [
        "print(np.mean(val_preds) - np.mean(te_y))\n",
        "print(np.std(val_preds) - np.std(te_y))"
      ]
    },
    {
      "cell_type": "code",
      "execution_count": null,
      "metadata": {
        "colab": {
          "background_save": true
        },
        "id": "LGDuwE9sm3yX",
        "outputId": "5377145c-7553-4773-d38b-2763c9ef060f"
      },
      "outputs": [
        {
          "data": {
            "text/plain": [
              "<matplotlib.legend.Legend at 0x7907c060a7a0>"
            ]
          },
          "execution_count": 45,
          "metadata": {},
          "output_type": "execute_result"
        },
        {
          "data": {
            "image/png": "[encoded data removed]",
            "text/plain": [
              "<Figure size 640x480 with 1 Axes>"
            ]
          },
          "metadata": {},
          "output_type": "display_data"
        }
      ],
      "source": [
        "plt.hist(val_preds, alpha = 0.75)\n",
        "plt.hist(te_y, alpha = 0.25)\n",
        "plt.legend(['predictions', 'truth'])"
      ]
    },
    {
      "cell_type": "markdown",
      "metadata": {
        "id": "efaPmQQgzNGx"
      },
      "source": [
        "#### This is not great, MSE is much higher than expected\n",
        "- Assumption: This is due to lack of normality in target temp\n",
        "  - Solution: Box cox or maybe gamma regression"
      ]
    },
    {
      "cell_type": "code",
      "execution_count": null,
      "metadata": {
        "colab": {
          "background_save": true
        },
        "id": "63Xp9Mdxzjs7"
      },
      "outputs": [],
      "source": [
        "bc_tr_y, bc_lambda = stats.boxcox(tr_y)"
      ]
    },
    {
      "cell_type": "code",
      "execution_count": null,
      "metadata": {
        "colab": {
          "background_save": true
        },
        "id": "pn73G57JzbH2",
        "outputId": "541a46a9-701c-47cc-cc60-7f6c5276b28b"
      },
      "outputs": [
        {
          "name": "stdout",
          "output_type": "stream",
          "text": [
            "-4.504968194727382\n"
          ]
        },
        {
          "data": {
            "image/png": "[encoded data removed]",
            "text/plain": [
              "<Figure size 640x480 with 1 Axes>"
            ]
          },
          "metadata": {},
          "output_type": "display_data"
        }
      ],
      "source": [
        "print(bc_lambda)\n",
        "plt.hist(bc_tr_y)\n",
        "plt.show()"
      ]
    },
    {
      "cell_type": "code",
      "execution_count": null,
      "metadata": {
        "colab": {
          "background_save": true
        },
        "id": "cDMy35TJ0gQX",
        "outputId": "f9831552-018d-407f-f433-55cbff7a7f7d"
      },
      "outputs": [
        {
          "name": "stdout",
          "output_type": "stream",
          "text": [
            "Currently testing alpha = 0.5\n"
          ]
        }
      ],
      "source": [
        "training_scores = []\n",
        "testing_scores = []\n",
        "k = 100\n",
        "a_range = np.linspace(0.01, 0.5, 100)\n",
        "\n",
        "for a in a_range:\n",
        "    clear_output()\n",
        "    print('Currently testing alpha =', a)\n",
        "    las = Lasso(alpha=a)\n",
        "    tr,te = DoKFold(las,tr_X_st, bc_tr_y,k)\n",
        "\n",
        "    training_scores.append(tr)\n",
        "    testing_scores.append(te)\n",
        "\n",
        "mean_tr = []\n",
        "mean_te = []\n",
        "for score_set in training_scores:\n",
        "    mean_tr.append(np.mean(score_set))\n",
        "for te_set in testing_scores:\n",
        "    mean_te.append(np.mean(te_set))\n",
        "\n"
      ]
    },
    {
      "cell_type": "code",
      "execution_count": null,
      "metadata": {
        "colab": {
          "background_save": true
        },
        "id": "jGADpJKD1XcO",
        "outputId": "7e874d11-a2e8-448c-999b-f8020c39bc80"
      },
      "outputs": [
        {
          "name": "stderr",
          "output_type": "stream",
          "text": [
            "WARNING:matplotlib.legend:No artists with labels found to put in legend.  Note that artists whose label start with an underscore are ignored when legend() is called with no argument.\n"
          ]
        },
        {
          "data": {
            "image/png": "[encoded data removed]",
            "text/plain": [
              "<Figure size 1000x800 with 1 Axes>"
            ]
          },
          "metadata": {},
          "output_type": "display_data"
        }
      ],
      "source": [
        "plot_train_test(mean_tr, mean_te, a_range)"
      ]
    },
    {
      "cell_type": "code",
      "execution_count": null,
      "metadata": {
        "colab": {
          "background_save": true
        },
        "id": "N9VktzUj1Yqh"
      },
      "outputs": [],
      "source": []
    }
  ],
  "metadata": {
    "colab": {
      "collapsed_sections": [
        "amNbe04hSDqM"
      ],
      "provenance": []
    },
    "kernelspec": {
      "display_name": "Python 3",
      "name": "python3"
    },
    "language_info": {
      "name": "python"
    }
  },
  "nbformat": 4,
  "nbformat_minor": 0
}